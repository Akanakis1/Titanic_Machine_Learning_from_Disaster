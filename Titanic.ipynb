{
 "cells": [
  {
   "cell_type": "markdown",
   "metadata": {},
   "source": [
    "# Import Libraries"
   ]
  },
  {
   "cell_type": "code",
   "execution_count": 357,
   "metadata": {},
   "outputs": [],
   "source": [
    "import pandas as pd\n",
    "import numpy as np\n",
    "import matplotlib.pyplot as plt\n",
    "import seaborn as sns\n",
    "from sklearn.model_selection import train_test_split\n",
    "from sklearn.linear_model import LogisticRegression\n",
    "from sklearn.ensemble import GradientBoostingClassifier, AdaBoostClassifier, RandomForestClassifier\n",
    "from sklearn.metrics import accuracy_score, precision_score, recall_score, f1_score, roc_auc_score\n"
   ]
  },
  {
   "cell_type": "markdown",
   "metadata": {},
   "source": [
    "# Data Importing"
   ]
  },
  {
   "cell_type": "code",
   "execution_count": 358,
   "metadata": {},
   "outputs": [],
   "source": [
    "train_df = pd.read_csv('C:/Users/alexa/OneDrive/Έγγραφα/Work_Python/Data_Analysis/Project 1 Titanic/train.csv')\n",
    "test_df = pd.read_csv('C:/Users/alexa/OneDrive/Έγγραφα/Work_Python/Data_Analysis/Project 1 Titanic/test.csv')"
   ]
  },
  {
   "cell_type": "markdown",
   "metadata": {},
   "source": [
    "## Data Inspection"
   ]
  },
  {
   "cell_type": "code",
   "execution_count": 359,
   "metadata": {},
   "outputs": [
    {
     "name": "stdout",
     "output_type": "stream",
     "text": [
      "Head Train dataset:\n",
      "    PassengerId  Survived  Pclass  \\\n",
      "0            1         0       3   \n",
      "1            2         1       1   \n",
      "2            3         1       3   \n",
      "3            4         1       1   \n",
      "4            5         0       3   \n",
      "\n",
      "                                                Name     Sex   Age  SibSp  \\\n",
      "0                            Braund, Mr. Owen Harris    male  22.0      1   \n",
      "1  Cumings, Mrs. John Bradley (Florence Briggs Th...  female  38.0      1   \n",
      "2                             Heikkinen, Miss. Laina  female  26.0      0   \n",
      "3       Futrelle, Mrs. Jacques Heath (Lily May Peel)  female  35.0      1   \n",
      "4                           Allen, Mr. William Henry    male  35.0      0   \n",
      "\n",
      "   Parch            Ticket     Fare Cabin Embarked  \n",
      "0      0         A/5 21171   7.2500   NaN        S  \n",
      "1      0          PC 17599  71.2833   C85        C  \n",
      "2      0  STON/O2. 3101282   7.9250   NaN        S  \n",
      "3      0            113803  53.1000  C123        S  \n",
      "4      0            373450   8.0500   NaN        S   \n",
      "\n",
      "<class 'pandas.core.frame.DataFrame'>\n",
      "RangeIndex: 891 entries, 0 to 890\n",
      "Data columns (total 12 columns):\n",
      " #   Column       Non-Null Count  Dtype  \n",
      "---  ------       --------------  -----  \n",
      " 0   PassengerId  891 non-null    int64  \n",
      " 1   Survived     891 non-null    int64  \n",
      " 2   Pclass       891 non-null    int64  \n",
      " 3   Name         891 non-null    object \n",
      " 4   Sex          891 non-null    object \n",
      " 5   Age          714 non-null    float64\n",
      " 6   SibSp        891 non-null    int64  \n",
      " 7   Parch        891 non-null    int64  \n",
      " 8   Ticket       891 non-null    object \n",
      " 9   Fare         891 non-null    float64\n",
      " 10  Cabin        204 non-null    object \n",
      " 11  Embarked     889 non-null    object \n",
      "dtypes: float64(2), int64(5), object(5)\n",
      "memory usage: 83.7+ KB\n",
      "Info of Train dataset:\n",
      " {None} \n",
      "\n",
      "Shape of Train dataset:\n",
      " {(891, 12)} \n",
      "\n",
      "Summary Train dataset:\n",
      ",         PassengerId    Survived      Pclass                 Name   Sex  \\\n",
      "count    891.000000  891.000000  891.000000                  891   891   \n",
      "unique          NaN         NaN         NaN                  891     2   \n",
      "top             NaN         NaN         NaN  Dooley, Mr. Patrick  male   \n",
      "freq            NaN         NaN         NaN                    1   577   \n",
      "mean     446.000000    0.383838    2.308642                  NaN   NaN   \n",
      "std      257.353842    0.486592    0.836071                  NaN   NaN   \n",
      "min        1.000000    0.000000    1.000000                  NaN   NaN   \n",
      "25%      223.500000    0.000000    2.000000                  NaN   NaN   \n",
      "50%      446.000000    0.000000    3.000000                  NaN   NaN   \n",
      "75%      668.500000    1.000000    3.000000                  NaN   NaN   \n",
      "max      891.000000    1.000000    3.000000                  NaN   NaN   \n",
      "\n",
      "               Age       SibSp       Parch  Ticket        Fare Cabin Embarked  \n",
      "count   714.000000  891.000000  891.000000     891  891.000000   204      889  \n",
      "unique         NaN         NaN         NaN     681         NaN   147        3  \n",
      "top            NaN         NaN         NaN  347082         NaN    G6        S  \n",
      "freq           NaN         NaN         NaN       7         NaN     4      644  \n",
      "mean     29.699118    0.523008    0.381594     NaN   32.204208   NaN      NaN  \n",
      "std      14.526497    1.102743    0.806057     NaN   49.693429   NaN      NaN  \n",
      "min       0.420000    0.000000    0.000000     NaN    0.000000   NaN      NaN  \n",
      "25%      20.125000    0.000000    0.000000     NaN    7.910400   NaN      NaN  \n",
      "50%      28.000000    0.000000    0.000000     NaN   14.454200   NaN      NaN  \n",
      "75%      38.000000    1.000000    0.000000     NaN   31.000000   NaN      NaN  \n",
      "max      80.000000    8.000000    6.000000     NaN  512.329200   NaN      NaN  \n",
      "Missing values in Train dataset:\n",
      " PassengerId      0\n",
      "Survived         0\n",
      "Pclass           0\n",
      "Name             0\n",
      "Sex              0\n",
      "Age            177\n",
      "SibSp            0\n",
      "Parch            0\n",
      "Ticket           0\n",
      "Fare             0\n",
      "Cabin          687\n",
      "Embarked         2\n",
      "dtype: int64 \n",
      "\n",
      "Head Test dataset:\n",
      "    PassengerId  Pclass                                          Name     Sex  \\\n",
      "0          892       3                              Kelly, Mr. James    male   \n",
      "1          893       3              Wilkes, Mrs. James (Ellen Needs)  female   \n",
      "2          894       2                     Myles, Mr. Thomas Francis    male   \n",
      "3          895       3                              Wirz, Mr. Albert    male   \n",
      "4          896       3  Hirvonen, Mrs. Alexander (Helga E Lindqvist)  female   \n",
      "\n",
      "    Age  SibSp  Parch   Ticket     Fare Cabin Embarked  \n",
      "0  34.5      0      0   330911   7.8292   NaN        Q  \n",
      "1  47.0      1      0   363272   7.0000   NaN        S  \n",
      "2  62.0      0      0   240276   9.6875   NaN        Q  \n",
      "3  27.0      0      0   315154   8.6625   NaN        S  \n",
      "4  22.0      1      1  3101298  12.2875   NaN        S   \n",
      "\n",
      "<class 'pandas.core.frame.DataFrame'>\n",
      "RangeIndex: 418 entries, 0 to 417\n",
      "Data columns (total 11 columns):\n",
      " #   Column       Non-Null Count  Dtype  \n",
      "---  ------       --------------  -----  \n",
      " 0   PassengerId  418 non-null    int64  \n",
      " 1   Pclass       418 non-null    int64  \n",
      " 2   Name         418 non-null    object \n",
      " 3   Sex          418 non-null    object \n",
      " 4   Age          332 non-null    float64\n",
      " 5   SibSp        418 non-null    int64  \n",
      " 6   Parch        418 non-null    int64  \n",
      " 7   Ticket       418 non-null    object \n",
      " 8   Fare         417 non-null    float64\n",
      " 9   Cabin        91 non-null     object \n",
      " 10  Embarked     418 non-null    object \n",
      "dtypes: float64(2), int64(4), object(5)\n",
      "memory usage: 36.1+ KB\n",
      "Info of Test dataset:\n",
      " {None} \n",
      "\n",
      "Shape of Test dataset:\n",
      " {(418, 11)} \n",
      "\n",
      "Summary Test dataset:\n",
      ",         PassengerId      Pclass                      Name   Sex         Age  \\\n",
      "count    418.000000  418.000000                       418   418  332.000000   \n",
      "unique          NaN         NaN                       418     2         NaN   \n",
      "top             NaN         NaN  Peter, Master. Michael J  male         NaN   \n",
      "freq            NaN         NaN                         1   266         NaN   \n",
      "mean    1100.500000    2.265550                       NaN   NaN   30.272590   \n",
      "std      120.810458    0.841838                       NaN   NaN   14.181209   \n",
      "min      892.000000    1.000000                       NaN   NaN    0.170000   \n",
      "25%      996.250000    1.000000                       NaN   NaN   21.000000   \n",
      "50%     1100.500000    3.000000                       NaN   NaN   27.000000   \n",
      "75%     1204.750000    3.000000                       NaN   NaN   39.000000   \n",
      "max     1309.000000    3.000000                       NaN   NaN   76.000000   \n",
      "\n",
      "             SibSp       Parch    Ticket        Fare            Cabin Embarked  \n",
      "count   418.000000  418.000000       418  417.000000               91      418  \n",
      "unique         NaN         NaN       363         NaN               76        3  \n",
      "top            NaN         NaN  PC 17608         NaN  B57 B59 B63 B66        S  \n",
      "freq           NaN         NaN         5         NaN                3      270  \n",
      "mean      0.447368    0.392344       NaN   35.627188              NaN      NaN  \n",
      "std       0.896760    0.981429       NaN   55.907576              NaN      NaN  \n",
      "min       0.000000    0.000000       NaN    0.000000              NaN      NaN  \n",
      "25%       0.000000    0.000000       NaN    7.895800              NaN      NaN  \n",
      "50%       0.000000    0.000000       NaN   14.454200              NaN      NaN  \n",
      "75%       1.000000    0.000000       NaN   31.500000              NaN      NaN  \n",
      "max       8.000000    9.000000       NaN  512.329200              NaN      NaN  \n",
      "Missing values in Test dataset:\n",
      " PassengerId      0\n",
      "Pclass           0\n",
      "Name             0\n",
      "Sex              0\n",
      "Age             86\n",
      "SibSp            0\n",
      "Parch            0\n",
      "Ticket           0\n",
      "Fare             1\n",
      "Cabin          327\n",
      "Embarked         0\n",
      "dtype: int64 \n",
      "\n"
     ]
    }
   ],
   "source": [
    "def inspect_dataframe(df, name=\"Dataset\"):\n",
    "    print(f\"Head {name}:\\n\", df.head(), \"\\n\")\n",
    "    print(f\"Info of {name}:\\n\", {df.info()}, \"\\n\")\n",
    "    print(f\"Shape of {name}:\\n\", {df.shape}, \"\\n\")\n",
    "    print(f\"Summary {name}:\\n, {df.describe(include='all')}\")\n",
    "    print(f\"Missing values in {name}:\\n\", df.isna().sum(), \"\\n\")\n",
    "\n",
    "inspect_dataframe(train_df, \"Train dataset\")\n",
    "inspect_dataframe(test_df, \"Test dataset\")"
   ]
  },
  {
   "cell_type": "markdown",
   "metadata": {},
   "source": [
    "## Exploratory Data Analysis  - EDA"
   ]
  },
  {
   "cell_type": "code",
   "execution_count": 360,
   "metadata": {},
   "outputs": [
    {
     "name": "stdout",
     "output_type": "stream",
     "text": [
      "Distribution of the target variable:\n",
      "Survived\n",
      "0    549\n",
      "1    342\n",
      "Name: count, dtype: int64\n",
      "_____________________________________________\n",
      "Distribution of the target variable with respect to Pclass:\n",
      "Pclass  Survived\n",
      "1       1           136\n",
      "        0            80\n",
      "2       0            97\n",
      "        1            87\n",
      "3       0           372\n",
      "        1           119\n",
      "Name: count, dtype: int64\n",
      "_____________________________________________\n",
      "Distribution of the target variable with respect to Embarked:\n",
      "Embarked  Survived\n",
      "C         1            93\n",
      "          0            75\n",
      "Q         0            47\n",
      "          1            30\n",
      "S         0           427\n",
      "          1           217\n",
      "Name: count, dtype: int64\n",
      "_____________________________________________\n",
      "Distribution of the target variable with respect to Sex:\n",
      "Sex     Survived\n",
      "female  1           233\n",
      "        0            81\n",
      "male    0           468\n",
      "        1           109\n",
      "Name: count, dtype: int64\n",
      "_____________________________________________\n",
      "Distribution of the target variable with respect to SibSp:\n",
      "SibSp  Survived\n",
      "0      0           398\n",
      "       1           210\n",
      "1      1           112\n",
      "       0            97\n",
      "2      0            15\n",
      "       1            13\n",
      "3      0            12\n",
      "       1             4\n",
      "4      0            15\n",
      "       1             3\n",
      "5      0             5\n",
      "8      0             7\n",
      "Name: count, dtype: int64\n",
      "_____________________________________________\n",
      "Distribution of the target variable with respect to Parch:\n",
      "Parch  Survived\n",
      "0      0           445\n",
      "       1           233\n",
      "1      1            65\n",
      "       0            53\n",
      "2      0            40\n",
      "       1            40\n",
      "3      1             3\n",
      "       0             2\n",
      "4      0             4\n",
      "5      0             4\n",
      "       1             1\n",
      "6      0             1\n",
      "Name: count, dtype: int64\n",
      "_____________________________________________\n",
      "Distribution of the target variable with respect to Age:\n",
      "Age    Survived\n",
      "0.42   1           1\n",
      "0.67   1           1\n",
      "0.75   1           2\n",
      "0.83   1           2\n",
      "0.92   1           1\n",
      "                  ..\n",
      "70.00  0           2\n",
      "70.50  0           1\n",
      "71.00  0           2\n",
      "74.00  0           1\n",
      "80.00  1           1\n",
      "Name: count, Length: 142, dtype: int64\n",
      "_____________________________________________\n",
      "Distribution of the target variable with respect to Fare:\n",
      "Fare      Survived\n",
      "0.0000    0           14\n",
      "          1            1\n",
      "4.0125    0            1\n",
      "5.0000    0            1\n",
      "6.2375    0            1\n",
      "                      ..\n",
      "247.5208  1            1\n",
      "262.3750  1            2\n",
      "263.0000  0            2\n",
      "          1            2\n",
      "512.3292  1            3\n",
      "Name: count, Length: 330, dtype: int64\n",
      "_____________________________________________\n"
     ]
    }
   ],
   "source": [
    "print('Distribution of the target variable:') # Check the people who survived\n",
    "print(train_df['Survived'].value_counts())\n",
    "print('_____________________________________________')\n",
    "print('Distribution of the target variable with respect to Pclass:') # Check the people who survived by Pclass\n",
    "print(train_df.groupby('Pclass')['Survived'].value_counts())\n",
    "print('_____________________________________________')\n",
    "print('Distribution of the target variable with respect to Embarked:') # Check the people who survived by Embarked\n",
    "print(train_df.groupby('Embarked')['Survived'].value_counts())\n",
    "print('_____________________________________________')\n",
    "print('Distribution of the target variable with respect to Sex:') # Check the people who survived by Sex\n",
    "print(train_df.groupby('Sex')['Survived'].value_counts())\n",
    "print('_____________________________________________')\n",
    "print('Distribution of the target variable with respect to SibSp:') # Check the people who survived by SibSp\n",
    "print(train_df.groupby('SibSp')['Survived'].value_counts())\n",
    "print('_____________________________________________')\n",
    "print('Distribution of the target variable with respect to Parch:') # Check the people who survived by Parch\n",
    "print(train_df.groupby('Parch')['Survived'].value_counts())\n",
    "print('_____________________________________________')\n",
    "print('Distribution of the target variable with respect to Age:') # Check the people who survived by Age\n",
    "print(train_df.groupby('Age')['Survived'].value_counts())\n",
    "print('_____________________________________________')\n",
    "print('Distribution of the target variable with respect to Fare:') # Check the people who survived by Fare\n",
    "print(train_df.groupby('Fare')['Survived'].value_counts())\n",
    "print('_____________________________________________')"
   ]
  },
  {
   "cell_type": "markdown",
   "metadata": {},
   "source": [
    "## EDA Visualization"
   ]
  },
  {
   "cell_type": "code",
   "execution_count": 361,
   "metadata": {},
   "outputs": [
    {
     "name": "stderr",
     "output_type": "stream",
     "text": [
      "C:\\Users\\alexa\\AppData\\Local\\Temp\\ipykernel_27276\\2215367807.py:4: FutureWarning: \n",
      "\n",
      "Passing `palette` without assigning `hue` is deprecated and will be removed in v0.14.0. Assign the `x` variable to `hue` and set `legend=False` for the same effect.\n",
      "\n",
      "  sns.countplot(x='Survived', data=train_df, palette=['red', 'blue'], ax=axes[0])\n",
      "C:\\Users\\alexa\\AppData\\Local\\Temp\\ipykernel_27276\\2215367807.py:7: UserWarning: set_ticklabels() should only be used with a fixed number of ticks, i.e. after set_ticks() or using a FixedLocator.\n",
      "  axes[0].set_xticklabels(['Died', 'Survived'], fontsize=12, fontname='Times New Roman')\n"
     ]
    },
    {
     "data": {
      "image/png": "[encoded data removed]",
      "text/plain": [
       "<Figure size 1200x600 with 2 Axes>"
      ]
     },
     "metadata": {},
     "output_type": "display_data"
    }
   ],
   "source": [
    "# Check the people who survived\n",
    "fig, axes = plt.subplots(1, 2, figsize=(12, 6))\n",
    "# Countplot for people who survived\n",
    "sns.countplot(x='Survived', data=train_df, palette=['red', 'blue'], ax=axes[0])\n",
    "axes[0].set_ylabel('People', fontsize=14, color='black', fontweight='bold', fontname='Times New Roman')\n",
    "axes[0].set_xlabel('Survived', fontsize=14, color='black', fontweight='bold', fontname='Times New Roman')\n",
    "axes[0].set_xticklabels(['Died', 'Survived'], fontsize=12, fontname='Times New Roman')\n",
    "axes[0].set_title('Countplot for Survived People', fontsize=16, fontweight='bold', fontname='Times New Roman')\n",
    "# Pie chart for Survived People\n",
    "train_df['Survived'].value_counts().plot.pie(autopct='%1.1f%%', colors=['red', 'blue'], labels=['Died', 'Survived'], ax=axes[1])\n",
    "axes[1].set_ylabel('')\n",
    "axes[1].set_title('Pie chart for Survived People', fontsize=16, fontweight='bold', fontname='Times New Roman')\n",
    "plt.tight_layout()\n",
    "plt.show()"
   ]
  },
  {
   "cell_type": "code",
   "execution_count": 362,
   "metadata": {},
   "outputs": [
    {
     "name": "stderr",
     "output_type": "stream",
     "text": [
      "C:\\Users\\alexa\\AppData\\Local\\Temp\\ipykernel_27276\\2401881932.py:6: UserWarning: set_ticklabels() should only be used with a fixed number of ticks, i.e. after set_ticks() or using a FixedLocator.\n",
      "  ax.set_xticklabels(['Male', 'Female'], fontsize=12, fontname='Times New Roman')\n"
     ]
    },
    {
     "data": {
      "image/png": "[encoded data removed]",
      "text/plain": [
       "<Figure size 1200x600 with 1 Axes>"
      ]
     },
     "metadata": {},
     "output_type": "display_data"
    }
   ],
   "source": [
    "# Countplot for people who survived Sex\n",
    "fig, ax = plt.subplots(1, figsize=(12, 6))\n",
    "sns.countplot(x='Sex', hue='Survived', data=train_df, palette=['red', 'blue'])\n",
    "ax.set_ylabel('People', fontsize=14, color='black', fontweight='bold', fontname='Times New Roman')\n",
    "ax.set_xlabel('Sex', fontsize=14, color='black', fontweight='bold', fontname='Times New Roman')\n",
    "ax.set_xticklabels(['Male', 'Female'], fontsize=12, fontname='Times New Roman')\n",
    "ax.set_title('Countplot for Survived People by Sex', fontsize=16, fontweight='bold', fontname='Times New Roman')\n",
    "ax.legend(['Died', 'Survived'], title='People', loc='upper right')\n",
    "plt.tight_layout()\n",
    "plt.show()"
   ]
  },
  {
   "cell_type": "code",
   "execution_count": 363,
   "metadata": {},
   "outputs": [
    {
     "name": "stderr",
     "output_type": "stream",
     "text": [
      "C:\\Users\\alexa\\AppData\\Local\\Temp\\ipykernel_27276\\3388694062.py:6: UserWarning: set_ticklabels() should only be used with a fixed number of ticks, i.e. after set_ticks() or using a FixedLocator.\n",
      "  axes[0].set_xticklabels(['1st class', '2nd class', '3rd class'], fontsize=12, fontname='Times New Roman')\n",
      "C:\\Users\\alexa\\AppData\\Local\\Temp\\ipykernel_27276\\3388694062.py:14: UserWarning: set_ticklabels() should only be used with a fixed number of ticks, i.e. after set_ticks() or using a FixedLocator.\n",
      "  axes[1].set_xticklabels(['Cherbourg', 'Queenstown', 'Southampton'], fontsize=12, fontname='Times New Roman')\n"
     ]
    },
    {
     "data": {
      "image/png": "[encoded data removed]",
      "text/plain": [
       "<Figure size 1200x600 with 2 Axes>"
      ]
     },
     "metadata": {},
     "output_type": "display_data"
    }
   ],
   "source": [
    "# Countplot for people who survived by Pclass\n",
    "fig, axes = plt.subplots(1,2, figsize=(12, 6))\n",
    "sns.countplot(x='Pclass', hue='Survived', data=train_df, palette=['red', 'blue'], ax=axes[0])\n",
    "axes[0].set_ylabel('People', fontsize=14, color='black', fontweight='bold', fontname='Times New Roman')\n",
    "axes[0].set_xlabel('Pclass', fontsize=14, color='black', fontweight='bold', fontname='Times New Roman')\n",
    "axes[0].set_xticklabels(['1st class', '2nd class', '3rd class'], fontsize=12, fontname='Times New Roman')\n",
    "axes[0].set_title('Countplot for Survived People by Pclass', fontsize=16, fontweight='bold', fontname='Times New Roman')\n",
    "axes[0].legend(['Died', 'Survived'], title='People', loc='upper left')\n",
    "\n",
    "# Countplot for people who survived by Embarked\n",
    "sns.countplot(x='Embarked', hue='Survived', data=train_df, palette=['red', 'blue'], ax=axes[1])\n",
    "axes[1].set_ylabel('People', fontsize=14, color='black', fontweight='bold', fontname='Times New Roman')\n",
    "axes[1].set_xlabel('Embarked', fontsize=14, color='black', fontweight='bold', fontname='Times New Roman')\n",
    "axes[1].set_xticklabels(['Cherbourg', 'Queenstown', 'Southampton'], fontsize=12, fontname='Times New Roman')\n",
    "axes[1].set_title('Countplot for Survived People by Embarked', fontsize=16, fontweight='bold', fontname='Times New Roman')\n",
    "axes[1].legend(['Died', 'Survived'], title='People', loc='upper right')\n",
    "\n",
    "plt.tight_layout()\n",
    "plt.show()"
   ]
  },
  {
   "cell_type": "markdown",
   "metadata": {},
   "source": [
    "# Data Preprocess"
   ]
  },
  {
   "cell_type": "markdown",
   "metadata": {},
   "source": [
    "## Feature Engineering"
   ]
  },
  {
   "cell_type": "markdown",
   "metadata": {},
   "source": [
    "### Drop Unuseful Informations"
   ]
  },
  {
   "cell_type": "code",
   "execution_count": 364,
   "metadata": {},
   "outputs": [],
   "source": [
    "# train_df = train_df.drop(['Cabin'], axis=1)\n",
    "# test_df = test_df.drop(['Cabin'], axis=1)"
   ]
  },
  {
   "cell_type": "code",
   "execution_count": 365,
   "metadata": {},
   "outputs": [],
   "source": [
    "train_df = train_df.drop(['Ticket'], axis=1)\n",
    "test_df = test_df.drop(['Ticket'], axis=1)"
   ]
  },
  {
   "cell_type": "markdown",
   "metadata": {},
   "source": [
    "### Replace missing values in the Embarked with the most common value S"
   ]
  },
  {
   "cell_type": "code",
   "execution_count": 366,
   "metadata": {},
   "outputs": [],
   "source": [
    "train_df = train_df.fillna({\"Embarked\": \"S\"})"
   ]
  },
  {
   "cell_type": "code",
   "execution_count": 367,
   "metadata": {},
   "outputs": [
    {
     "ename": "AttributeError",
     "evalue": "Can only use .cat accessor with a 'category' dtype",
     "output_type": "error",
     "traceback": [
      "\u001b[31m---------------------------------------------------------------------------\u001b[39m",
      "\u001b[31mAttributeError\u001b[39m                            Traceback (most recent call last)",
      "\u001b[36mCell\u001b[39m\u001b[36m \u001b[39m\u001b[32mIn[367]\u001b[39m\u001b[32m, line 4\u001b[39m\n\u001b[32m      1\u001b[39m train_df[\u001b[33m'\u001b[39m\u001b[33mCabin\u001b[39m\u001b[33m'\u001b[39m] = train_df[\u001b[33m'\u001b[39m\u001b[33mCabin\u001b[39m\u001b[33m'\u001b[39m].fillna(\u001b[33m\"\u001b[39m\u001b[33mUknown\u001b[39m\u001b[33m\"\u001b[39m)\n\u001b[32m      2\u001b[39m test_df[\u001b[33m'\u001b[39m\u001b[33mCabin\u001b[39m\u001b[33m'\u001b[39m] = test_df[\u001b[33m'\u001b[39m\u001b[33mCabin\u001b[39m\u001b[33m'\u001b[39m].fillna(\u001b[33m\"\u001b[39m\u001b[33mUknown\u001b[39m\u001b[33m\"\u001b[39m)\n\u001b[32m----> \u001b[39m\u001b[32m4\u001b[39m train_df[\u001b[33m'\u001b[39m\u001b[33mCabinBand\u001b[39m\u001b[33m'\u001b[39m] = \u001b[43mtrain_df\u001b[49m\u001b[43m[\u001b[49m\u001b[33;43m'\u001b[39;49m\u001b[33;43mCabin\u001b[39;49m\u001b[33;43m'\u001b[39;49m\u001b[43m]\u001b[49m\u001b[43m.\u001b[49m\u001b[43mcat\u001b[49m.codes\n\u001b[32m      5\u001b[39m test_df[\u001b[33m'\u001b[39m\u001b[33mCabinBand\u001b[39m\u001b[33m'\u001b[39m] = test_df[\u001b[33m'\u001b[39m\u001b[33mCabin\u001b[39m\u001b[33m'\u001b[39m].cat.codes\n",
      "\u001b[36mFile \u001b[39m\u001b[32mc:\\Users\\alexa\\OneDrive\\Έγγραφα\\Work_Python\\.venv\\Lib\\site-packages\\pandas\\core\\generic.py:6299\u001b[39m, in \u001b[36mNDFrame.__getattr__\u001b[39m\u001b[34m(self, name)\u001b[39m\n\u001b[32m   6292\u001b[39m \u001b[38;5;28;01mif\u001b[39;00m (\n\u001b[32m   6293\u001b[39m     name \u001b[38;5;129;01mnot\u001b[39;00m \u001b[38;5;129;01min\u001b[39;00m \u001b[38;5;28mself\u001b[39m._internal_names_set\n\u001b[32m   6294\u001b[39m     \u001b[38;5;129;01mand\u001b[39;00m name \u001b[38;5;129;01mnot\u001b[39;00m \u001b[38;5;129;01min\u001b[39;00m \u001b[38;5;28mself\u001b[39m._metadata\n\u001b[32m   6295\u001b[39m     \u001b[38;5;129;01mand\u001b[39;00m name \u001b[38;5;129;01mnot\u001b[39;00m \u001b[38;5;129;01min\u001b[39;00m \u001b[38;5;28mself\u001b[39m._accessors\n\u001b[32m   6296\u001b[39m     \u001b[38;5;129;01mand\u001b[39;00m \u001b[38;5;28mself\u001b[39m._info_axis._can_hold_identifiers_and_holds_name(name)\n\u001b[32m   6297\u001b[39m ):\n\u001b[32m   6298\u001b[39m     \u001b[38;5;28;01mreturn\u001b[39;00m \u001b[38;5;28mself\u001b[39m[name]\n\u001b[32m-> \u001b[39m\u001b[32m6299\u001b[39m \u001b[38;5;28;01mreturn\u001b[39;00m \u001b[38;5;28;43mobject\u001b[39;49m\u001b[43m.\u001b[49m\u001b[34;43m__getattribute__\u001b[39;49m\u001b[43m(\u001b[49m\u001b[38;5;28;43mself\u001b[39;49m\u001b[43m,\u001b[49m\u001b[43m \u001b[49m\u001b[43mname\u001b[49m\u001b[43m)\u001b[49m\n",
      "\u001b[36mFile \u001b[39m\u001b[32mc:\\Users\\alexa\\OneDrive\\Έγγραφα\\Work_Python\\.venv\\Lib\\site-packages\\pandas\\core\\accessor.py:224\u001b[39m, in \u001b[36mCachedAccessor.__get__\u001b[39m\u001b[34m(self, obj, cls)\u001b[39m\n\u001b[32m    221\u001b[39m \u001b[38;5;28;01mif\u001b[39;00m obj \u001b[38;5;129;01mis\u001b[39;00m \u001b[38;5;28;01mNone\u001b[39;00m:\n\u001b[32m    222\u001b[39m     \u001b[38;5;66;03m# we're accessing the attribute of the class, i.e., Dataset.geo\u001b[39;00m\n\u001b[32m    223\u001b[39m     \u001b[38;5;28;01mreturn\u001b[39;00m \u001b[38;5;28mself\u001b[39m._accessor\n\u001b[32m--> \u001b[39m\u001b[32m224\u001b[39m accessor_obj = \u001b[38;5;28;43mself\u001b[39;49m\u001b[43m.\u001b[49m\u001b[43m_accessor\u001b[49m\u001b[43m(\u001b[49m\u001b[43mobj\u001b[49m\u001b[43m)\u001b[49m\n\u001b[32m    225\u001b[39m \u001b[38;5;66;03m# Replace the property with the accessor object. Inspired by:\u001b[39;00m\n\u001b[32m    226\u001b[39m \u001b[38;5;66;03m# https://www.pydanny.com/cached-property.html\u001b[39;00m\n\u001b[32m    227\u001b[39m \u001b[38;5;66;03m# We need to use object.__setattr__ because we overwrite __setattr__ on\u001b[39;00m\n\u001b[32m    228\u001b[39m \u001b[38;5;66;03m# NDFrame\u001b[39;00m\n\u001b[32m    229\u001b[39m \u001b[38;5;28mobject\u001b[39m.\u001b[34m__setattr__\u001b[39m(obj, \u001b[38;5;28mself\u001b[39m._name, accessor_obj)\n",
      "\u001b[36mFile \u001b[39m\u001b[32mc:\\Users\\alexa\\OneDrive\\Έγγραφα\\Work_Python\\.venv\\Lib\\site-packages\\pandas\\core\\arrays\\categorical.py:2898\u001b[39m, in \u001b[36mCategoricalAccessor.__init__\u001b[39m\u001b[34m(self, data)\u001b[39m\n\u001b[32m   2897\u001b[39m \u001b[38;5;28;01mdef\u001b[39;00m\u001b[38;5;250m \u001b[39m\u001b[34m__init__\u001b[39m(\u001b[38;5;28mself\u001b[39m, data) -> \u001b[38;5;28;01mNone\u001b[39;00m:\n\u001b[32m-> \u001b[39m\u001b[32m2898\u001b[39m     \u001b[38;5;28;43mself\u001b[39;49m\u001b[43m.\u001b[49m\u001b[43m_validate\u001b[49m\u001b[43m(\u001b[49m\u001b[43mdata\u001b[49m\u001b[43m)\u001b[49m\n\u001b[32m   2899\u001b[39m     \u001b[38;5;28mself\u001b[39m._parent = data.values\n\u001b[32m   2900\u001b[39m     \u001b[38;5;28mself\u001b[39m._index = data.index\n",
      "\u001b[36mFile \u001b[39m\u001b[32mc:\\Users\\alexa\\OneDrive\\Έγγραφα\\Work_Python\\.venv\\Lib\\site-packages\\pandas\\core\\arrays\\categorical.py:2907\u001b[39m, in \u001b[36mCategoricalAccessor._validate\u001b[39m\u001b[34m(data)\u001b[39m\n\u001b[32m   2904\u001b[39m \u001b[38;5;129m@staticmethod\u001b[39m\n\u001b[32m   2905\u001b[39m \u001b[38;5;28;01mdef\u001b[39;00m\u001b[38;5;250m \u001b[39m\u001b[34m_validate\u001b[39m(data):\n\u001b[32m   2906\u001b[39m     \u001b[38;5;28;01mif\u001b[39;00m \u001b[38;5;129;01mnot\u001b[39;00m \u001b[38;5;28misinstance\u001b[39m(data.dtype, CategoricalDtype):\n\u001b[32m-> \u001b[39m\u001b[32m2907\u001b[39m         \u001b[38;5;28;01mraise\u001b[39;00m \u001b[38;5;167;01mAttributeError\u001b[39;00m(\u001b[33m\"\u001b[39m\u001b[33mCan only use .cat accessor with a \u001b[39m\u001b[33m'\u001b[39m\u001b[33mcategory\u001b[39m\u001b[33m'\u001b[39m\u001b[33m dtype\u001b[39m\u001b[33m\"\u001b[39m)\n",
      "\u001b[31mAttributeError\u001b[39m: Can only use .cat accessor with a 'category' dtype"
     ]
    }
   ],
   "source": [
    "train_df['Cabin'] = train_df['Cabin'].fillna(\"Uknown\")\n",
    "test_df['Cabin'] = test_df['Cabin'].fillna(\"Uknown\")\n",
    "\n",
    "train_df['CabinBand'] = train_df['Cabin'].cat.codes\n",
    "test_df['CabinBand'] = test_df['Cabin'].cat.codes"
   ]
  },
  {
   "cell_type": "markdown",
   "metadata": {},
   "source": [
    "### Sort the ages into logical categories"
   ]
  },
  {
   "cell_type": "code",
   "execution_count": null,
   "metadata": {},
   "outputs": [],
   "source": [
    "train_df[\"Age\"] = train_df[\"Age\"].fillna(-0.5)\n",
    "test_df[\"Age\"] = test_df[\"Age\"].fillna(-0.5)\n",
    "bins = [-1, 0, 5, 12, 18, 24, 35, 60, np.inf]\n",
    "labels = ['Unknown', 'Baby', 'Child', 'Teenager',\n",
    "          'Student', 'Young Adult', 'Adult', 'Senior']\n",
    "train_df['AgeGroup'] = pd.cut(train_df[\"Age\"], bins, labels=labels)\n",
    "test_df['AgeGroup'] = pd.cut(test_df[\"Age\"], bins, labels=labels)"
   ]
  },
  {
   "cell_type": "code",
   "execution_count": null,
   "metadata": {},
   "outputs": [],
   "source": [
    "# create a combined group of both datasets\n",
    "combine = [train_df, test_df]\n",
    "\n",
    "# extract a title for each Name in the train and testdatasets\n",
    "for dataset in combine:\n",
    "    dataset['Title'] = dataset.Name.str.extract(' ([A-Za-z]+)\\.', expand=False)\n",
    "\n",
    "pd.crosstab(train_df['Title'], train_df['Sex'])\n",
    "\n",
    "# replace various titles with more common names\n",
    "for dataset in combine:\n",
    "    dataset['Title'] = dataset['Title'].replace(['Lady', 'Capt', 'Col',\n",
    "                                                 'Don', 'Dr', 'Major',\n",
    "                                                 'Rev', 'Jonkheer', 'Dona'],\n",
    "                                                 'Rare')\n",
    "    dataset['Title'] = dataset['Title'].replace(\n",
    "        ['Countess', 'Lady', 'Sir'], 'Royal')\n",
    "    dataset['Title'] = dataset['Title'].replace('Mlle', 'Miss')\n",
    "    dataset['Title'] = dataset['Title'].replace('Ms', 'Miss')\n",
    "    dataset['Title'] = dataset['Title'].replace('Mme', 'Mrs')\n",
    "train_df[['Title', 'Survived']].groupby(['Title'], as_index=False).mean()\n",
    "\n",
    "# map each of the title groups to a numerical value\n",
    "title_mapping = {\"Mr\": 1, \"Miss\": 2, \"Mrs\": 3,\n",
    "                 \"Master\": 4, \"Royal\": 5, \"Rare\": 6}\n",
    "for dataset in combine:\n",
    "    dataset['Title'] = dataset['Title'].map(title_mapping)\n",
    "    dataset['Title'] = dataset['Title'].fillna(0)"
   ]
  },
  {
   "cell_type": "code",
   "execution_count": null,
   "metadata": {},
   "outputs": [],
   "source": [
    "mr_age = train_df[train_df[\"Title\"] == 1][\"AgeGroup\"].mode()  # Young Adult\n",
    "miss_age = train_df[train_df[\"Title\"] == 2][\"AgeGroup\"].mode()  # Student\n",
    "mrs_age = train_df[train_df[\"Title\"] == 3][\"AgeGroup\"].mode()  # Adult\n",
    "master_age = train_df[train_df[\"Title\"] == 4][\"AgeGroup\"].mode()  # Baby\n",
    "royal_age = train_df[train_df[\"Title\"] == 5][\"AgeGroup\"].mode()  # Adult\n",
    "rare_age = train_df[train_df[\"Title\"] == 6][\"AgeGroup\"].mode()  # Adult\n",
    "\n",
    "age_title_mapping = {1: \"Young Adult\", 2: \"Student\",\n",
    "                     3: \"Adult\", 4: \"Baby\", 5: \"Adult\", 6: \"Adult\"}\n",
    "\n",
    "train_df.loc[train_df[\"AgeGroup\"] == \"Unknown\", \"AgeGroup\"] = train_df.loc[train_df[\"AgeGroup\"] == \"Unknown\", \"Title\"].map(age_title_mapping)\n",
    "test_df.loc[test_df[\"AgeGroup\"] == \"Unknown\", \"AgeGroup\"] = test_df.loc[test_df[\"AgeGroup\"] == \"Unknown\", \"Title\"].map(age_title_mapping)"
   ]
  },
  {
   "cell_type": "code",
   "execution_count": null,
   "metadata": {},
   "outputs": [],
   "source": [
    "# map each Age value to a numerical value\n",
    "age_mapping = {'Baby': 1, 'Child': 2, 'Teenager': 3,\n",
    "               'Student': 4, 'Young Adult': 5, 'Adult': 6, \n",
    "               'Senior': 7}\n",
    "train_df['AgeGroup'] = train_df['AgeGroup'].map(age_mapping)\n",
    "test_df['AgeGroup'] = test_df['AgeGroup'].map(age_mapping)\n",
    "\n",
    "train_df.head()\n",
    "\n",
    "# dropping the Age feature for now, might change\n",
    "train_df = train_df.drop(['Age'], axis=1)\n",
    "test_df = test_df.drop(['Age'], axis=1)"
   ]
  },
  {
   "cell_type": "code",
   "execution_count": null,
   "metadata": {},
   "outputs": [],
   "source": [
    "train_df = train_df.drop(['Name'], axis=1)\n",
    "test_df = test_df.drop(['Name'], axis=1)"
   ]
  },
  {
   "cell_type": "code",
   "execution_count": null,
   "metadata": {},
   "outputs": [],
   "source": [
    "sex_mapping = {\"male\": 0, \"female\": 1}\n",
    "train_df['Sex'] = train_df['Sex'].map(sex_mapping)\n",
    "test_df['Sex'] = test_df['Sex'].map(sex_mapping)\n",
    "\n",
    "embarked_mapping = {\"S\": 3, \"C\": 2, \"Q\": 1}\n",
    "train_df['Embarked'] = train_df['Embarked'].map(embarked_mapping)\n",
    "test_df['Embarked'] = test_df['Embarked'].map(embarked_mapping)"
   ]
  },
  {
   "cell_type": "code",
   "execution_count": null,
   "metadata": {},
   "outputs": [],
   "source": [
    "# Fill missing Fare values with the mean Fare of corresponding Pclass\n",
    "test_df[\"Fare\"] = test_df.apply(\n",
    "    lambda row: round(train_df[train_df[\"Pclass\"] == row[\"Pclass\"]][\"Fare\"].mean(), 4)\n",
    "    if pd.isnull(row[\"Fare\"])\n",
    "    else row[\"Fare\"],\n",
    "    axis=1\n",
    ")\n",
    "train_df[\"Fare\"] = train_df[\"Fare\"].fillna(\"Uknown\")\n",
    "test_df[\"Fare\"] = test_df[\"Fare\"].fillna(\"Uknown\")\n",
    "\n",
    "# Create FareBand using qcut for both datasets\n",
    "for df in [train_df, test_df]:\n",
    "    df['FareBand'] = pd.qcut(df['Fare'], 5, labels=[0, 1, 2, 3, 4])\n",
    "    df.drop('Fare', axis=1, inplace=True)\n"
   ]
  },
  {
   "cell_type": "markdown",
   "metadata": {},
   "source": [
    "# Create a Model"
   ]
  },
  {
   "cell_type": "markdown",
   "metadata": {},
   "source": [
    "### Model Feature"
   ]
  },
  {
   "cell_type": "code",
   "execution_count": null,
   "metadata": {},
   "outputs": [],
   "source": [
    "features = ['Pclass', 'Sex', 'SibSp', 'Parch',\n",
    "            'Embarked', 'AgeGroup', 'Title',\n",
    "            'FareBand']\n",
    "X = train_df[features]\n",
    "Y = train_df['Survived']"
   ]
  },
  {
   "cell_type": "markdown",
   "metadata": {},
   "source": [
    "### Model Training"
   ]
  },
  {
   "cell_type": "code",
   "execution_count": null,
   "metadata": {},
   "outputs": [],
   "source": [
    "X_train, X_test, Y_train, Y_test = train_test_split(X, Y, test_size=0.2, random_state=42)"
   ]
  },
  {
   "cell_type": "markdown",
   "metadata": {},
   "source": [
    "### Define the models"
   ]
  },
  {
   "cell_type": "code",
   "execution_count": null,
   "metadata": {},
   "outputs": [],
   "source": [
    "models = {\n",
    "    'Logistic Regression': LogisticRegression(),\n",
    "    'Gradient Boosting': GradientBoostingClassifier(),\n",
    "    'Random Forest': RandomForestClassifier()\n",
    "}"
   ]
  },
  {
   "cell_type": "markdown",
   "metadata": {},
   "source": [
    "### Train and evaluate each model"
   ]
  },
  {
   "cell_type": "code",
   "execution_count": null,
   "metadata": {},
   "outputs": [
    {
     "name": "stdout",
     "output_type": "stream",
     "text": [
      "Model: Logistic Regression\n",
      "Accuracy: 0.7821\n",
      "Precision: 0.7397\n",
      "Recall: 0.7297\n",
      "F1 Score: 0.7347\n",
      "ROC AUC: 0.8988\n",
      "_____________________________________________\n",
      "Model: Gradient Boosting\n",
      "Accuracy: 0.8268\n",
      "Precision: 0.8209\n",
      "Recall: 0.7432\n",
      "F1 Score: 0.7801\n",
      "ROC AUC: 0.8931\n",
      "_____________________________________________\n",
      "Model: Random Forest\n",
      "Accuracy: 0.8324\n",
      "Precision: 0.7973\n",
      "Recall: 0.7973\n",
      "F1 Score: 0.7973\n",
      "ROC AUC: 0.8779\n",
      "_____________________________________________\n"
     ]
    }
   ],
   "source": [
    "results = {}\n",
    "for model_name, model in models.items():\n",
    "    model.fit(X_train, Y_train)\n",
    "    Y_pred = model.predict(X_test)\n",
    "    Y_prob = model.predict_proba(X_test)[:, 1]\n",
    "    results[model_name] = {\n",
    "        'Accuracy': accuracy_score(Y_test, Y_pred),\n",
    "        'Precision': precision_score(Y_test, Y_pred),\n",
    "        'Recall': recall_score(Y_test, Y_pred),\n",
    "        'F1 Score': f1_score(Y_test, Y_pred),\n",
    "        'ROC AUC': roc_auc_score(Y_test, Y_prob)\n",
    "    }\n",
    "### Print the results\n",
    "for model_name, metrics in results.items():\n",
    "    print(f\"Model: {model_name}\")\n",
    "    for metric_name, metric_value in metrics.items():\n",
    "        print(f\"{metric_name}: {metric_value:.4f}\")\n",
    "    print('_____________________________________________')"
   ]
  },
  {
   "cell_type": "markdown",
   "metadata": {},
   "source": [
    "### Select the best model based on the evaluation metrics"
   ]
  },
  {
   "cell_type": "code",
   "execution_count": null,
   "metadata": {},
   "outputs": [
    {
     "name": "stdout",
     "output_type": "stream",
     "text": [
      "Best model selected: Logistic Regression\n"
     ]
    }
   ],
   "source": [
    "best_model_name = max(results, key=lambda x: results[x]['ROC AUC'])\n",
    "best_model = models[best_model_name]\n",
    "best_model.fit(X_train, Y_train)\n",
    "print(f\"Best model selected: {best_model_name}\")"
   ]
  },
  {
   "cell_type": "markdown",
   "metadata": {},
   "source": [
    "# Model Predict Testing Data"
   ]
  },
  {
   "cell_type": "code",
   "execution_count": null,
   "metadata": {},
   "outputs": [],
   "source": [
    "test_df['Survived'] = best_model.predict(test_df[features]) # Make predictions on the test dataset\n",
    "Titanic_submission = test_df[['PassengerId','Survived']] # Create a DataFrame for submission"
   ]
  },
  {
   "cell_type": "markdown",
   "metadata": {},
   "source": [
    "### Create a figure barplot for Survived by Sex for Testing Dataset"
   ]
  },
  {
   "cell_type": "code",
   "execution_count": null,
   "metadata": {},
   "outputs": [
    {
     "name": "stderr",
     "output_type": "stream",
     "text": [
      "C:\\Users\\alexa\\AppData\\Local\\Temp\\ipykernel_27276\\2882139777.py:2: FutureWarning: \n",
      "\n",
      "Passing `palette` without assigning `hue` is deprecated and will be removed in v0.14.0. Assign the `x` variable to `hue` and set `legend=False` for the same effect.\n",
      "\n",
      "  sns.barplot(x='Sex', y='Survived', data=test_df, palette=['red', 'blue'])\n"
     ]
    },
    {
     "data": {
      "image/png": "[encoded data removed]",
      "text/plain": [
       "<Figure size 800x600 with 1 Axes>"
      ]
     },
     "metadata": {},
     "output_type": "display_data"
    }
   ],
   "source": [
    "fig, ax = plt.subplots(figsize=(8, 6))\n",
    "sns.barplot(x='Sex', y='Survived', data=test_df, palette=['red', 'blue'])\n",
    "ax.set_ylabel('Survival Probability', fontsize=14, color='black', fontweight='bold', fontname='Times New Roman')\n",
    "ax.set_xlabel('Sex', fontsize=14, color='black', fontweight='bold', fontname='Times New Roman')\n",
    "ax.set_xticks([0, 1])\n",
    "ax.set_xticklabels(['Male', 'Female'], fontsize=12, fontname='Times New Roman')\n",
    "ax.set_title('Classification Survival by Gender', fontsize=16, fontweight='bold', fontname='Times New Roman')\n",
    "plt.tight_layout()\n",
    "plt.show()"
   ]
  },
  {
   "cell_type": "markdown",
   "metadata": {},
   "source": [
    "### Save the DataFrame to a CSV file"
   ]
  },
  {
   "cell_type": "code",
   "execution_count": null,
   "metadata": {},
   "outputs": [
    {
     "name": "stdout",
     "output_type": "stream",
     "text": [
      "Submission file saved as 'submission.csv'\n"
     ]
    }
   ],
   "source": [
    "Titanic_submission.to_csv('Titanic_submission.csv', index=False)\n",
    "print(\"Submission file saved as 'submission.csv'\")"
   ]
  }
 ],
 "metadata": {
  "kernelspec": {
   "display_name": ".venv",
   "language": "python",
   "name": "python3"
  },
  "language_info": {
   "codemirror_mode": {
    "name": "ipython",
    "version": 3
   },
   "file_extension": ".py",
   "mimetype": "text/x-python",
   "name": "python",
   "nbconvert_exporter": "python",
   "pygments_lexer": "ipython3",
   "version": "3.11.9"
  }
 },
 "nbformat": 4,
 "nbformat_minor": 2
}
